{
 "cells": [
  {
   "cell_type": "code",
   "execution_count": 13,
   "metadata": {},
   "outputs": [
    {
     "name": "stdout",
     "output_type": "stream",
     "text": [
      "     1  35.71818996415771   1  64.50434587813884\n",
      "0    2          38.713542   2          64.203398\n",
      "1    3          39.255007   3          63.605162\n",
      "2    4          39.760279   4          63.683284\n",
      "3    5          48.617159   5          62.986246\n",
      "4    6          52.912963   6          62.477106\n",
      "5    7          53.546717   7          62.398768\n",
      "6    8          52.708763   8          61.508183\n",
      "7    9          52.268067   9          62.089583\n",
      "8   10          48.180780  10          63.108445\n",
      "9   11          40.737269  11          63.996528\n",
      "10  12          39.301075  12          64.039695\n"
     ]
    }
   ],
   "source": [
    "import pandas as pd\n",
    "\n",
    "rhSort=(pd.read_csv(\"/Users/heidilooker/Documents/FINAL OMO/Concat PEM/rhSort.csv\"))\n",
    "tempSort=(pd.read_csv(\"/Users/heidilooker/Documents/FINAL OMO/Concat PEM/tempSort.csv\"))\n",
    "\n",
    "\n",
    "frames = [rhSort, tempSort]\n",
    "result = pd.concat([rhSort, tempSort], axis=1, join='inner')\n",
    "\n",
    "print(result)\n",
    "result.to_csv(\"/Users/heidilooker/Documents/FINAL OMO/Data In/readyPEM.csv\")"
   ]
  },
  {
   "cell_type": "code",
   "execution_count": null,
   "metadata": {
    "collapsed": true
   },
   "outputs": [],
   "source": []
  },
  {
   "cell_type": "code",
   "execution_count": null,
   "metadata": {
    "collapsed": true
   },
   "outputs": [],
   "source": []
  }
 ],
 "metadata": {
  "kernelspec": {
   "display_name": "Python 3",
   "language": "python",
   "name": "python3"
  },
  "language_info": {
   "codemirror_mode": {
    "name": "ipython",
    "version": 3
   },
   "file_extension": ".py",
   "mimetype": "text/x-python",
   "name": "python",
   "nbconvert_exporter": "python",
   "pygments_lexer": "ipython3",
   "version": "3.6.3"
  }
 },
 "nbformat": 4,
 "nbformat_minor": 2
}
