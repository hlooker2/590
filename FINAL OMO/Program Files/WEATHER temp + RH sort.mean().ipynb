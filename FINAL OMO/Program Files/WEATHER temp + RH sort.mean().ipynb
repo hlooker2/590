{
 "cells": [
  {
   "cell_type": "code",
   "execution_count": 12,
   "metadata": {},
   "outputs": [
    {
     "name": "stdout",
     "output_type": "stream",
     "text": [
      "Month\n",
      "1     24.570968\n",
      "2     33.275000\n",
      "3     38.364516\n",
      "4     46.056667\n",
      "5     72.183871\n",
      "6     75.130000\n",
      "7     74.700000\n",
      "8     75.112903\n",
      "9     70.753333\n",
      "10    54.435484\n",
      "11    35.406667\n",
      "12    34.032258\n",
      "Name: avg_air_temp, dtype: float64\n",
      "Month\n",
      "1     77.977419\n",
      "2     82.157143\n",
      "3     69.858065\n",
      "4     65.110000\n",
      "5     67.922581\n",
      "6     79.730000\n",
      "7     75.503226\n",
      "8     77.748387\n",
      "9     72.830000\n",
      "10    73.977419\n",
      "11    82.003333\n",
      "12    84.148387\n",
      "Name: avg_rel_hum, dtype: float64\n"
     ]
    }
   ],
   "source": [
    "import numpy as np\n",
    "import pandas as pd\n",
    "import calendar\n",
    "#from pandas import ExcelWriter\n",
    "#from pandas import ExcelFile\n",
    "weatherData = pd.read_csv(\"/Users/heidilooker/Documents/FINAL OMO/RAW Data/Weather_noAVG.csv\")\n",
    "\n",
    "#sortedMonth = pemData.groupby(['YEAR','MONTH', 'DAY', 'TEMP', 'RH']).sum()\n",
    "#sortedMonth.reset_index(inplace=True)\n",
    "#sortedMonth['MONTH'] = pd.Categorical(sortedMonth['MONTH'], \n",
    "#                            categories = ['Jan', 'Feb', 'Mar', 'Apr','May','Jun', 'Jul', 'Aug','Sep', 'Oct', 'Nov', 'Dec'],\n",
    "#                           ordered = True)\n",
    "#sortedMonth = sortedMonth.sort_values(\"MONTH\")\n",
    "#sortedMonth\n",
    "weatherData['Month'] = weatherData['Month'].apply(lambda x: calendar.month_abbr[x]) \n",
    "weatherData[\"Month\"] = weatherData[\"Month\"].str.capitalize()\n",
    "\n",
    "weatherData[\"Month\"] = pd.to_datetime(weatherData.Month, format='%b', errors='coerce').dt.month\n",
    "weatherData = weatherData.sort_values(by=\"Month\")\n",
    "\n",
    "\n",
    "tempSort = (weatherData.groupby(weatherData['Month'])['avg_air_temp'].mean())\n",
    "rhSort = (weatherData.groupby(weatherData['Month'])['avg_rel_hum'].mean())\n",
    "\n",
    "\n",
    "#tempSort=tempSort.drop([\"Month\"], )\n",
    "print (tempSort)\n",
    "print(rhSort)\n",
    "\n",
    "#rhSort.reindex(rhSort.index+1)\n",
    "#rhSort.index.name = \"Month\"\n",
    "#rhSort = rhSort.rename(columns={0:'Month'}).rename_axis('Average RH')\n",
    "#rhSort = rhSort.rename(columns={0:'Average RH'})\n",
    "\n",
    "\n",
    "tempSort.to_csv(\"/Users/heidilooker/Documents/FINAL OMO/Concat Weather/tempSort.csv\")\n",
    "rhSort.to_csv(\"/Users/heidilooker/Documents/FINAL OMO/Concat Weather/rhSort.csv\")\n",
    "\n",
    "#pemData.index = pd.CategoricalIndex(pemData.index, \n",
    "  #                             categories=['Jan', 'Feb', 'Mar', 'Apr','May','Jun', 'Jul', 'Aug','Sep', 'Oct', 'Nov', 'Dec'], \n",
    " #                              sorted=True)\n",
    "#monthData= pemData.sort_index()\n",
    "\n",
    "\n",
    "\n",
    "#print(pemData)\n",
    "#print (\"Column headings:\")\n",
    "#exportData = pd.DataFrame(pemData)\n",
    "#exportData = exportData[['DATE AND TIME', 'TEMP', '%RH', 'YYYY-MM-DD']]\n"
   ]
  },
  {
   "cell_type": "code",
   "execution_count": null,
   "metadata": {
    "collapsed": true
   },
   "outputs": [],
   "source": []
  },
  {
   "cell_type": "code",
   "execution_count": null,
   "metadata": {
    "collapsed": true
   },
   "outputs": [],
   "source": []
  }
 ],
 "metadata": {
  "kernelspec": {
   "display_name": "Python 3",
   "language": "python",
   "name": "python3"
  },
  "language_info": {
   "codemirror_mode": {
    "name": "ipython",
    "version": 3
   },
   "file_extension": ".py",
   "mimetype": "text/x-python",
   "name": "python",
   "nbconvert_exporter": "python",
   "pygments_lexer": "ipython3",
   "version": "3.6.3"
  }
 },
 "nbformat": 4,
 "nbformat_minor": 2
}
