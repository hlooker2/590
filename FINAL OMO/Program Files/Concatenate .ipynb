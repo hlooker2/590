{
 "cells": [
  {
   "cell_type": "code",
   "execution_count": 42,
   "metadata": {},
   "outputs": [
    {
     "name": "stdout",
     "output_type": "stream",
     "text": [
      "    UNIT  YEAR MONTH  PEST COUNT  35.71818996415771  64.50434587813884  \\\n",
      "0   RBML  2018   Jan          27          38.713542          64.203398   \n",
      "1   RBML  2018   Feb           2          39.255007          63.605162   \n",
      "2   RBML  2018   Mar          11          39.760279          63.683284   \n",
      "3   RBML  2018   Apr          53          48.617159          62.986246   \n",
      "4   RBML  2018   May           7          52.912963          62.477106   \n",
      "5   RBML  2018   Jun           2          53.546717          62.398768   \n",
      "6   RBML  2018   Jul           2          52.708763          61.508183   \n",
      "7   RBML  2018   Aug          16          52.268067          62.089583   \n",
      "8   RBML  2018   Sep           0          48.180780          63.108445   \n",
      "9   RBML  2018   Oct           1          40.737269          63.996528   \n",
      "10  RBML  2018   Nov           1          39.301075          64.039695   \n",
      "11  RBML  2018   Dec          10                NaN                NaN   \n",
      "\n",
      "    77.9774193548387  24.570967741935483  \n",
      "0          82.157143           33.275000  \n",
      "1          69.858065           38.364516  \n",
      "2          65.110000           46.056667  \n",
      "3          67.922581           72.183871  \n",
      "4          79.730000           75.130000  \n",
      "5          75.503226           74.700000  \n",
      "6          77.748387           75.112903  \n",
      "7          72.830000           70.753333  \n",
      "8          73.977419           54.435484  \n",
      "9          82.003333           35.406667  \n",
      "10         84.148387           34.032258  \n",
      "11               NaN                 NaN  \n"
     ]
    }
   ],
   "source": [
    "import pandas as pd\n",
    "\n",
    "weather=(pd.read_csv(\"/Users/heidilooker/Documents/FINAL OMO/Data In/readyWeather.csv\"))\n",
    "pem=(pd.read_csv(\"/Users/heidilooker/Documents/FINAL OMO/Data In/readyPEM.csv\"))\n",
    "ipm=(pd.read_csv(\"/Users/heidilooker/Documents/FINAL OMO/Data In/readyIPM.csv\"))\n",
    "\n",
    "\n",
    " \n",
    "ipm=ipm.drop([\"Unnamed: 0\"], axis = 1)\n",
    "pem=pem.drop([\"Unnamed: 0\"], axis = 1)\n",
    "pem=pem.drop([\"1\"], axis =1)\n",
    "pem=pem.drop([\"1.1\"], axis =1)\n",
    "weather=weather.drop([\"1\"], axis =1)\n",
    "weather=weather.drop([\"1.1\"], axis =1)\n",
    "weather=weather.drop(['Unnamed: 0'], axis = 1)\n",
    "#weather=weather.drop([\"day\", \"month\",\"year\"], axis = 1)\n",
    "\n",
    "result = pd.concat([ipm, pem, weather], axis=1, join='outer')\n",
    "\n",
    "\n",
    "print(result)\n",
    "result.to_csv(\"/Users/heidilooker/Documents/FINAL OMO/Final Dataset/FinalDataSet.csv\")"
   ]
  },
  {
   "cell_type": "code",
   "execution_count": 20,
   "metadata": {},
   "outputs": [
    {
     "data": {
      "text/plain": [
       "['UNIT',\n",
       " 'YEAR',\n",
       " 'MONTH',\n",
       " 'PEST COUNT',\n",
       " '35.71818996415771',\n",
       " '64.50434587813884',\n",
       " 'avg_air_temp',\n",
       " 'avg_rel_hum']"
      ]
     },
     "execution_count": 20,
     "metadata": {},
     "output_type": "execute_result"
    }
   ],
   "source": []
  },
  {
   "cell_type": "code",
   "execution_count": null,
   "metadata": {
    "collapsed": true
   },
   "outputs": [],
   "source": []
  },
  {
   "cell_type": "code",
   "execution_count": null,
   "metadata": {
    "collapsed": true
   },
   "outputs": [],
   "source": []
  }
 ],
 "metadata": {
  "kernelspec": {
   "display_name": "Python 3",
   "language": "python",
   "name": "python3"
  },
  "language_info": {
   "codemirror_mode": {
    "name": "ipython",
    "version": 3
   },
   "file_extension": ".py",
   "mimetype": "text/x-python",
   "name": "python",
   "nbconvert_exporter": "python",
   "pygments_lexer": "ipython3",
   "version": "3.6.3"
  }
 },
 "nbformat": 4,
 "nbformat_minor": 2
}
