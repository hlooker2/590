{
 "cells": [
  {
   "cell_type": "code",
   "execution_count": 16,
   "metadata": {},
   "outputs": [
    {
     "name": "stdout",
     "output_type": "stream",
     "text": [
      "     1  77.9774193548387   1  24.570967741935483\n",
      "0    2         82.157143   2           33.275000\n",
      "1    3         69.858065   3           38.364516\n",
      "2    4         65.110000   4           46.056667\n",
      "3    5         67.922581   5           72.183871\n",
      "4    6         79.730000   6           75.130000\n",
      "5    7         75.503226   7           74.700000\n",
      "6    8         77.748387   8           75.112903\n",
      "7    9         72.830000   9           70.753333\n",
      "8   10         73.977419  10           54.435484\n",
      "9   11         82.003333  11           35.406667\n",
      "10  12         84.148387  12           34.032258\n"
     ]
    }
   ],
   "source": [
    "import pandas as pd\n",
    "\n",
    "rhSort=(pd.read_csv(\"/Users/heidilooker/Documents/FINAL OMO/Concat Weather/rhSort.csv\"))\n",
    "tempSort=(pd.read_csv(\"/Users/heidilooker/Documents/FINAL OMO/Concat Weather/tempSort.csv\"))\n",
    "#tempSort=tempSort.drop(['1'], axis = 1)\n",
    "\n",
    "frames = [rhSort, tempSort]\n",
    "result = pd.concat([rhSort, tempSort], axis=1, join='inner')\n",
    "\n",
    "\n",
    "\n",
    "\n",
    "print(result)\n",
    "result.to_csv(\"/Users/heidilooker/Documents/FINAL OMO/Data In/readyWeather.csv\")"
   ]
  },
  {
   "cell_type": "code",
   "execution_count": null,
   "metadata": {
    "collapsed": true
   },
   "outputs": [],
   "source": []
  },
  {
   "cell_type": "code",
   "execution_count": null,
   "metadata": {
    "collapsed": true
   },
   "outputs": [],
   "source": []
  }
 ],
 "metadata": {
  "kernelspec": {
   "display_name": "Python 3",
   "language": "python",
   "name": "python3"
  },
  "language_info": {
   "codemirror_mode": {
    "name": "ipython",
    "version": 3
   },
   "file_extension": ".py",
   "mimetype": "text/x-python",
   "name": "python",
   "nbconvert_exporter": "python",
   "pygments_lexer": "ipython3",
   "version": "3.6.3"
  }
 },
 "nbformat": 4,
 "nbformat_minor": 2
}
