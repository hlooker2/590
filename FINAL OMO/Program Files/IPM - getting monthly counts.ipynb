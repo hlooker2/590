{
 "cells": [
  {
   "cell_type": "code",
   "execution_count": 45,
   "metadata": {
    "scrolled": true
   },
   "outputs": [
    {
     "name": "stdout",
     "output_type": "stream",
     "text": [
      "    UNIT  YEAR MONTH  PEST COUNT\n",
      "4   RBML  2018   Jan          27\n",
      "3   RBML  2018   Feb           2\n",
      "7   RBML  2018   Mar          11\n",
      "0   RBML  2018   Apr          53\n",
      "8   RBML  2018   May           7\n",
      "6   RBML  2018   Jun           2\n",
      "5   RBML  2018   Jul           2\n",
      "1   RBML  2018   Aug          16\n",
      "11  RBML  2018   Sep           0\n",
      "10  RBML  2018   Oct           1\n",
      "9   RBML  2018   Nov           1\n",
      "2   RBML  2018   Dec          10\n"
     ]
    }
   ],
   "source": [
    "import numpy as np\n",
    "import pandas as pd\n",
    "import calendar\n",
    "\n",
    "\n",
    " ##read in CSV\n",
    "ipm=(pd.read_csv(\"/Users/heidilooker/Google Drive (hlooker93@gmail.com)/📚 Grad School Notes/data mashups/Data Cleaning/RBML_IPM/SPECIALCOLL_IPM.csv\"))\n",
    "## convert month numbers to month string \n",
    "ipm['MONTH'] = ipm['MONTH'].apply(lambda x: calendar.month_abbr[x]) \n",
    "##drops column pest type for now\n",
    "ipm=ipm.drop([\"PEST TYPE\"], axis = 1)\n",
    "\n",
    "\n",
    "ipmMonthSort = ipm.groupby(['UNIT','YEAR', 'MONTH']).sum()\n",
    "ipmMonthSort.reset_index(inplace=True)\n",
    "ipmMonthSort['MONTH'] = pd.Categorical(ipmMonthSort['MONTH'], \n",
    "                            categories = ['Jan', 'Feb', 'Mar', 'Apr','May','Jun', 'Jul', 'Aug','Sep', 'Oct', 'Nov', 'Dec'],\n",
    "                           ordered = True)\n",
    "ipmMonthSort = ipmMonthSort.sort_values(\"MONTH\")\n",
    "\n",
    "\n",
    "\n",
    "\n",
    "print(ipmMonthSort)"
   ]
  },
  {
   "cell_type": "code",
   "execution_count": 49,
   "metadata": {},
   "outputs": [
    {
     "data": {
      "text/plain": [
       "['UNIT', 'YEAR', 'MONTH', 'PEST COUNT']"
      ]
     },
     "execution_count": 49,
     "metadata": {},
     "output_type": "execute_result"
    }
   ],
   "source": [
    "list(ipmMonthSort.columns.values)"
   ]
  },
  {
   "cell_type": "code",
   "execution_count": null,
   "metadata": {
    "collapsed": true
   },
   "outputs": [],
   "source": []
  }
 ],
 "metadata": {
  "kernelspec": {
   "display_name": "Python 3",
   "language": "python",
   "name": "python3"
  },
  "language_info": {
   "codemirror_mode": {
    "name": "ipython",
    "version": 3
   },
   "file_extension": ".py",
   "mimetype": "text/x-python",
   "name": "python",
   "nbconvert_exporter": "python",
   "pygments_lexer": "ipython3",
   "version": "3.6.3"
  }
 },
 "nbformat": 4,
 "nbformat_minor": 2
}
