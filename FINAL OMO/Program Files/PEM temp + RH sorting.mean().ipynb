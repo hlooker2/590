{
 "cells": [
  {
   "cell_type": "markdown",
   "metadata": {
    "collapsed": true
   },
   "source": [
    "# here are some words"
   ]
  },
  {
   "cell_type": "code",
   "execution_count": 110,
   "metadata": {},
   "outputs": [
    {
     "name": "stdout",
     "output_type": "stream",
     "text": [
      "Month\n",
      "1     35.718190\n",
      "2     38.713542\n",
      "3     39.255007\n",
      "4     39.760279\n",
      "5     48.617159\n",
      "6     52.912963\n",
      "7     53.546717\n",
      "8     52.708763\n",
      "9     52.268067\n",
      "10    48.180780\n",
      "11    40.737269\n",
      "12    39.301075\n",
      "Name: RH, dtype: float64\n"
     ]
    }
   ],
   "source": [
    "import numpy as np\n",
    "import pandas as pd\n",
    "import calendar\n",
    "#from pandas import ExcelWriter\n",
    "#from pandas import ExcelFile\n",
    "pemData = pd.read_csv(\"/Users/heidilooker/Documents/FINAL OMO/RAW Data/2018 Master.csv\")\n",
    "\n",
    "#sortedMonth = pemData.groupby(['YEAR','MONTH', 'DAY', 'TEMP', 'RH']).sum()\n",
    "#sortedMonth.reset_index(inplace=True)\n",
    "#sortedMonth['MONTH'] = pd.Categorical(sortedMonth['MONTH'], \n",
    "#                            categories = ['Jan', 'Feb', 'Mar', 'Apr','May','Jun', 'Jul', 'Aug','Sep', 'Oct', 'Nov', 'Dec'],\n",
    "#                           ordered = True)\n",
    "#sortedMonth = sortedMonth.sort_values(\"MONTH\")\n",
    "#sortedMonth\n",
    "pemData[\"Month\"] = pemData[\"Month\"].str.capitalize()\n",
    "\n",
    "pemData[\"Month\"] = pd.to_datetime(pemData.Month, format='%b', errors='coerce').dt.month\n",
    "pemData = pemData.sort_values(by=\"Month\")\n",
    "\n",
    "\n",
    "rhSort = (pemData.groupby(pemData['Month'])['RH'].mean())\n",
    "tempSort = (pemData.groupby(pemData['Month'])['TEMP'].mean())\n",
    "\n",
    "rhSort.columns = ['Month', 'Average RH']\n",
    "tempSort.columns = ['Month', 'Average Temp']\n",
    "\n",
    "#tempSort=tempSort.drop([\"Month\"], )\n",
    "print (rhSort)\n",
    "\n",
    "#rhSort.reindex(rhSort.index+1)\n",
    "#rhSort.index.name = \"Month\"\n",
    "#rhSort = rhSort.rename(columns={0:'Month'}).rename_axis('Average RH')\n",
    "#rhSort = rhSort.rename(columns={0:'Average RH'})\n",
    "\n",
    "\n",
    "tempSort.to_csv(\"/Users/heidilooker/Documents/FINAL OMO/Concat PEM/tempSort.csv\")\n",
    "rhSort.to_csv(\"/Users/heidilooker/Documents/FINAL OMO/Concat PEM/rhSort.csv\")\n",
    "\n",
    "#pemData.index = pd.CategoricalIndex(pemData.index, \n",
    "  #                             categories=['Jan', 'Feb', 'Mar', 'Apr','May','Jun', 'Jul', 'Aug','Sep', 'Oct', 'Nov', 'Dec'], \n",
    " #                              sorted=True)\n",
    "#monthData= pemData.sort_index()\n",
    "\n",
    "\n",
    "\n",
    "#print(pemData)\n",
    "#print (\"Column headings:\")\n",
    "#exportData = pd.DataFrame(pemData)\n",
    "#exportData = exportData[['DATE AND TIME', 'TEMP', '%RH', 'YYYY-MM-DD']]\n"
   ]
  },
  {
   "cell_type": "code",
   "execution_count": null,
   "metadata": {
    "collapsed": true
   },
   "outputs": [],
   "source": []
  },
  {
   "cell_type": "code",
   "execution_count": null,
   "metadata": {
    "collapsed": true
   },
   "outputs": [],
   "source": []
  }
 ],
 "metadata": {
  "kernelspec": {
   "display_name": "Python 3",
   "language": "python",
   "name": "python3"
  },
  "language_info": {
   "codemirror_mode": {
    "name": "ipython",
    "version": 3
   },
   "file_extension": ".py",
   "mimetype": "text/x-python",
   "name": "python",
   "nbconvert_exporter": "python",
   "pygments_lexer": "ipython3",
   "version": "3.6.3"
  }
 },
 "nbformat": 4,
 "nbformat_minor": 2
}
